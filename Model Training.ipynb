{
 "cells": [
  {
   "cell_type": "code",
   "execution_count": 1,
   "id": "e2a80858",
   "metadata": {},
   "outputs": [],
   "source": [
    "import os\n",
    "import numpy as np\n",
    "import tensorflow as tf\n",
    "from tensorflow.keras.models import Model\n",
    "from tensorflow.keras.layers import Input, Dense, Dropout, GlobalAveragePooling2D\n",
    "from tensorflow.keras.applications.resnet50 import ResNet50\n",
    "from tensorflow.keras.optimizers import Adam\n",
    "from tensorflow.keras.preprocessing.image import ImageDataGenerator\n",
    "from tensorflow.keras.callbacks import ModelCheckpoint, EarlyStopping, ReduceLROnPlateau\n",
    "from sklearn.utils.class_weight import compute_class_weight\n",
    "from sklearn.metrics import classification_report, confusion_matrix\n",
    "from bayes_opt import BayesianOptimization\n",
    "import matplotlib.pyplot as plt\n",
    "import seaborn as sns\n"
   ]
  },
  {
   "cell_type": "code",
   "execution_count": 2,
   "id": "b7b2bfce",
   "metadata": {},
   "outputs": [],
   "source": [
    "# Define paths\n",
    "base_dir = 'ResNet'\n",
    "train_dir = os.path.join(base_dir, 'train')\n",
    "validation_dir = os.path.join(base_dir, 'validation')\n",
    "test_dir = os.path.join(base_dir, 'test')\n"
   ]
  },
  {
   "cell_type": "code",
   "execution_count": 3,
   "id": "f409dd4f",
   "metadata": {},
   "outputs": [
    {
     "name": "stdout",
     "output_type": "stream",
     "text": [
      "Found 28709 images belonging to 7 classes.\n",
      "Found 3589 images belonging to 7 classes.\n",
      "Found 3589 images belonging to 7 classes.\n"
     ]
    }
   ],
   "source": [
    "# Data generators\n",
    "train_datagen = ImageDataGenerator(rescale=1./255)\n",
    "validation_datagen = ImageDataGenerator(rescale=1./255)\n",
    "test_datagen = ImageDataGenerator(rescale=1./255)\n",
    "\n",
    "train_generator = train_datagen.flow_from_directory(\n",
    "    train_dir,\n",
    "    target_size=(48, 48),\n",
    "    batch_size=32,\n",
    "    class_mode='categorical'\n",
    ")\n",
    "\n",
    "validation_generator = validation_datagen.flow_from_directory(\n",
    "    validation_dir,\n",
    "    target_size=(48, 48),\n",
    "    batch_size=32,\n",
    "    class_mode='categorical'\n",
    ")\n",
    "\n",
    "test_generator = test_datagen.flow_from_directory(\n",
    "    test_dir,\n",
    "    target_size=(48, 48),\n",
    "    batch_size=32,\n",
    "    class_mode='categorical',\n",
    "    shuffle=False\n",
    ")"
   ]
  },
  {
   "cell_type": "code",
   "execution_count": 4,
   "id": "b0c3cb61",
   "metadata": {},
   "outputs": [],
   "source": [
    "# Compute class weights\n",
    "labels = train_generator.classes\n",
    "class_weights = compute_class_weight('balanced', classes=np.unique(labels), y=labels)\n",
    "class_weights_dict = dict(enumerate(class_weights))\n"
   ]
  },
  {
   "cell_type": "code",
   "execution_count": 5,
   "id": "56f08f51",
   "metadata": {},
   "outputs": [],
   "source": [
    "# Define model building function\n",
    "def build_model(learning_rate, dropout_rate):\n",
    "    input_tensor = Input(shape=(48, 48, 3))\n",
    "    base_model = ResNet50(include_top=False, weights='imagenet', input_tensor=input_tensor)\n",
    "    x = GlobalAveragePooling2D()(base_model.output)\n",
    "    x = Dense(1024, activation='relu')(x)\n",
    "    x = Dropout(dropout_rate)(x)\n",
    "    output_layer = Dense(7, activation='softmax')(x)\n",
    "    model = Model(inputs=input_tensor, outputs=output_layer)\n",
    "    model.compile(optimizer=Adam(learning_rate=learning_rate),\n",
    "                  loss='categorical_crossentropy',\n",
    "                  metrics=['accuracy'])\n",
    "    return model\n"
   ]
  },
  {
   "cell_type": "code",
   "execution_count": 6,
   "id": "131102c9",
   "metadata": {},
   "outputs": [],
   "source": [
    "# Objective function for Bayesian Optimization\n",
    "def fit_with(learning_rate, dropout_rate):\n",
    "    model = build_model(learning_rate=10**learning_rate, dropout_rate=dropout_rate)\n",
    "    history = model.fit(train_generator, \n",
    "                        epochs=3, # fewer epochs for optimization speed\n",
    "                        validation_data=validation_generator,\n",
    "                        class_weight=class_weights_dict,  \n",
    "                        verbose=0)\n",
    "    validation_accuracy = np.amax(history.history['val_accuracy']) \n",
    "    return validation_accuracy\n"
   ]
  },
  {
   "cell_type": "code",
   "execution_count": 7,
   "id": "bcdc17eb",
   "metadata": {},
   "outputs": [
    {
     "name": "stdout",
     "output_type": "stream",
     "text": [
      "|   iter    |  target   | dropou... | learni... |\n",
      "-------------------------------------------------\n"
     ]
    },
    {
     "name": "stderr",
     "output_type": "stream",
     "text": [
      "C:\\Users\\olale\\anaconda3\\lib\\site-packages\\keras\\src\\trainers\\data_adapters\\py_dataset_adapter.py:120: UserWarning: Your `PyDataset` class should call `super().__init__(**kwargs)` in its constructor. `**kwargs` can include `workers`, `use_multiprocessing`, `max_queue_size`. Do not pass these arguments to `fit()`, as they will be ignored.\n",
      "  self._warn_if_super_not_called()\n"
     ]
    },
    {
     "name": "stdout",
     "output_type": "stream",
     "text": [
      "| \u001b[0m1        \u001b[0m | \u001b[0m0.5344   \u001b[0m | \u001b[0m0.4668   \u001b[0m | \u001b[0m-3.839   \u001b[0m |\n",
      "| \u001b[0m2        \u001b[0m | \u001b[0m0.3536   \u001b[0m | \u001b[0m0.3      \u001b[0m | \u001b[0m-5.093   \u001b[0m |\n",
      "| \u001b[0m3        \u001b[0m | \u001b[0m0.234    \u001b[0m | \u001b[0m0.3587   \u001b[0m | \u001b[0m-5.723   \u001b[0m |\n",
      "| \u001b[0m4        \u001b[0m | \u001b[0m0.3837   \u001b[0m | \u001b[0m0.3745   \u001b[0m | \u001b[0m-4.963   \u001b[0m |\n",
      "| \u001b[0m5        \u001b[0m | \u001b[0m0.4845   \u001b[0m | \u001b[0m0.4587   \u001b[0m | \u001b[0m-4.384   \u001b[0m |\n",
      "| \u001b[95m6        \u001b[0m | \u001b[95m0.5631   \u001b[0m | \u001b[95m0.4677   \u001b[0m | \u001b[95m-3.944   \u001b[0m |\n",
      "| \u001b[0m7        \u001b[0m | \u001b[0m0.4845   \u001b[0m | \u001b[0m0.3818   \u001b[0m | \u001b[0m-3.366   \u001b[0m |\n",
      "| \u001b[0m8        \u001b[0m | \u001b[0m0.5386   \u001b[0m | \u001b[0m0.311    \u001b[0m | \u001b[0m-3.989   \u001b[0m |\n",
      "| \u001b[0m9        \u001b[0m | \u001b[0m0.5286   \u001b[0m | \u001b[0m0.4669   \u001b[0m | \u001b[0m-4.324   \u001b[0m |\n",
      "| \u001b[0m10       \u001b[0m | \u001b[0m0.2979   \u001b[0m | \u001b[0m0.3562   \u001b[0m | \u001b[0m-5.406   \u001b[0m |\n",
      "| \u001b[0m11       \u001b[0m | \u001b[0m0.5071   \u001b[0m | \u001b[0m0.7      \u001b[0m | \u001b[0m-4.138   \u001b[0m |\n",
      "| \u001b[0m12       \u001b[0m | \u001b[0m0.4603   \u001b[0m | \u001b[0m0.7      \u001b[0m | \u001b[0m-3.0     \u001b[0m |\n",
      "| \u001b[0m13       \u001b[0m | \u001b[0m0.5556   \u001b[0m | \u001b[0m0.3597   \u001b[0m | \u001b[0m-4.114   \u001b[0m |\n",
      "| \u001b[0m14       \u001b[0m | \u001b[0m0.4586   \u001b[0m | \u001b[0m0.3      \u001b[0m | \u001b[0m-3.0     \u001b[0m |\n",
      "| \u001b[0m15       \u001b[0m | \u001b[0m0.5149   \u001b[0m | \u001b[0m0.7      \u001b[0m | \u001b[0m-3.503   \u001b[0m |\n",
      "| \u001b[0m16       \u001b[0m | \u001b[0m0.5481   \u001b[0m | \u001b[0m0.7      \u001b[0m | \u001b[0m-3.824   \u001b[0m |\n",
      "| \u001b[0m17       \u001b[0m | \u001b[0m0.4951   \u001b[0m | \u001b[0m0.5073   \u001b[0m | \u001b[0m-4.128   \u001b[0m |\n",
      "| \u001b[0m18       \u001b[0m | \u001b[0m0.5235   \u001b[0m | \u001b[0m0.3      \u001b[0m | \u001b[0m-4.275   \u001b[0m |\n",
      "| \u001b[0m19       \u001b[0m | \u001b[0m0.3892   \u001b[0m | \u001b[0m0.7      \u001b[0m | \u001b[0m-4.752   \u001b[0m |\n",
      "| \u001b[0m20       \u001b[0m | \u001b[0m0.4227   \u001b[0m | \u001b[0m0.3594   \u001b[0m | \u001b[0m-4.78    \u001b[0m |\n",
      "| \u001b[0m21       \u001b[0m | \u001b[0m0.5222   \u001b[0m | \u001b[0m0.3651   \u001b[0m | \u001b[0m-4.107   \u001b[0m |\n",
      "| \u001b[0m22       \u001b[0m | \u001b[0m0.5286   \u001b[0m | \u001b[0m0.336    \u001b[0m | \u001b[0m-4.142   \u001b[0m |\n",
      "| \u001b[0m23       \u001b[0m | \u001b[0m0.5475   \u001b[0m | \u001b[0m0.4671   \u001b[0m | \u001b[0m-3.899   \u001b[0m |\n",
      "| \u001b[0m24       \u001b[0m | \u001b[0m0.5531   \u001b[0m | \u001b[0m0.4147   \u001b[0m | \u001b[0m-3.918   \u001b[0m |\n",
      "| \u001b[0m25       \u001b[0m | \u001b[0m0.5536   \u001b[0m | \u001b[0m0.4191   \u001b[0m | \u001b[0m-3.973   \u001b[0m |\n",
      "| \u001b[0m26       \u001b[0m | \u001b[0m0.5522   \u001b[0m | \u001b[0m0.3596   \u001b[0m | \u001b[0m-3.948   \u001b[0m |\n",
      "| \u001b[0m27       \u001b[0m | \u001b[0m0.518    \u001b[0m | \u001b[0m0.3003   \u001b[0m | \u001b[0m-4.089   \u001b[0m |\n",
      "| \u001b[0m28       \u001b[0m | \u001b[0m0.5366   \u001b[0m | \u001b[0m0.3      \u001b[0m | \u001b[0m-3.916   \u001b[0m |\n",
      "| \u001b[0m29       \u001b[0m | \u001b[0m0.521    \u001b[0m | \u001b[0m0.3878   \u001b[0m | \u001b[0m-3.502   \u001b[0m |\n",
      "| \u001b[0m30       \u001b[0m | \u001b[0m0.5559   \u001b[0m | \u001b[0m0.4171   \u001b[0m | \u001b[0m-3.974   \u001b[0m |\n",
      "=================================================\n"
     ]
    }
   ],
   "source": [
    "# Hyperparameter ranges\n",
    "params = {\n",
    "    'learning_rate': (-6, -3),  # log scale\n",
    "    'dropout_rate': (0.3, 0.7)\n",
    "}\n",
    "\n",
    "# Bayesian optimization\n",
    "optimizer = BayesianOptimization(f=fit_with, pbounds=params, random_state=1)\n",
    "optimizer.maximize(init_points=10, n_iter=20)"
   ]
  },
  {
   "cell_type": "code",
   "execution_count": 9,
   "id": "0d319cc4",
   "metadata": {},
   "outputs": [
    {
     "name": "stdout",
     "output_type": "stream",
     "text": [
      "Epoch 1/50\n",
      "\u001b[1m898/898\u001b[0m \u001b[32m━━━━━━━━━━━━━━━━━━━━\u001b[0m\u001b[37m\u001b[0m \u001b[1m785s\u001b[0m 836ms/step - accuracy: 0.2626 - loss: 2.0594 - val_accuracy: 0.2608 - val_loss: 1.8975 - learning_rate: 1.1367e-04\n",
      "Epoch 2/50\n",
      "\u001b[1m898/898\u001b[0m \u001b[32m━━━━━━━━━━━━━━━━━━━━\u001b[0m\u001b[37m\u001b[0m \u001b[1m764s\u001b[0m 851ms/step - accuracy: 0.4972 - loss: 1.2691 - val_accuracy: 0.5077 - val_loss: 1.4420 - learning_rate: 1.1367e-04\n",
      "Epoch 3/50\n",
      "\u001b[1m898/898\u001b[0m \u001b[32m━━━━━━━━━━━━━━━━━━━━\u001b[0m\u001b[37m\u001b[0m \u001b[1m748s\u001b[0m 833ms/step - accuracy: 0.5915 - loss: 0.9980 - val_accuracy: 0.5690 - val_loss: 1.1669 - learning_rate: 1.1367e-04\n",
      "Epoch 4/50\n",
      "\u001b[1m898/898\u001b[0m \u001b[32m━━━━━━━━━━━━━━━━━━━━\u001b[0m\u001b[37m\u001b[0m \u001b[1m739s\u001b[0m 823ms/step - accuracy: 0.6576 - loss: 0.8454 - val_accuracy: 0.5829 - val_loss: 1.1466 - learning_rate: 1.1367e-04\n",
      "Epoch 5/50\n",
      "\u001b[1m898/898\u001b[0m \u001b[32m━━━━━━━━━━━━━━━━━━━━\u001b[0m\u001b[37m\u001b[0m \u001b[1m691s\u001b[0m 769ms/step - accuracy: 0.7349 - loss: 0.6621 - val_accuracy: 0.5642 - val_loss: 1.2925 - learning_rate: 1.1367e-04\n",
      "Epoch 6/50\n",
      "\u001b[1m898/898\u001b[0m \u001b[32m━━━━━━━━━━━━━━━━━━━━\u001b[0m\u001b[37m\u001b[0m \u001b[1m681s\u001b[0m 759ms/step - accuracy: 0.8042 - loss: 0.4851 - val_accuracy: 0.5642 - val_loss: 1.3463 - learning_rate: 1.1367e-04\n",
      "Epoch 7/50\n",
      "\u001b[1m898/898\u001b[0m \u001b[32m━━━━━━━━━━━━━━━━━━━━\u001b[0m\u001b[37m\u001b[0m \u001b[1m741s\u001b[0m 825ms/step - accuracy: 0.8311 - loss: 0.4366 - val_accuracy: 0.5910 - val_loss: 1.3340 - learning_rate: 1.1367e-04\n",
      "Epoch 8/50\n",
      "\u001b[1m898/898\u001b[0m \u001b[32m━━━━━━━━━━━━━━━━━━━━\u001b[0m\u001b[37m\u001b[0m \u001b[1m745s\u001b[0m 830ms/step - accuracy: 0.8870 - loss: 0.2980 - val_accuracy: 0.5595 - val_loss: 1.6023 - learning_rate: 1.1367e-04\n",
      "Epoch 9/50\n",
      "\u001b[1m898/898\u001b[0m \u001b[32m━━━━━━━━━━━━━━━━━━━━\u001b[0m\u001b[37m\u001b[0m \u001b[1m747s\u001b[0m 831ms/step - accuracy: 0.9216 - loss: 0.2120 - val_accuracy: 0.5918 - val_loss: 1.8178 - learning_rate: 1.1367e-04\n",
      "Epoch 10/50\n",
      "\u001b[1m898/898\u001b[0m \u001b[32m━━━━━━━━━━━━━━━━━━━━\u001b[0m\u001b[37m\u001b[0m \u001b[1m706s\u001b[0m 786ms/step - accuracy: 0.9485 - loss: 0.1423 - val_accuracy: 0.6264 - val_loss: 1.6840 - learning_rate: 1.1367e-05\n",
      "Epoch 11/50\n",
      "\u001b[1m898/898\u001b[0m \u001b[32m━━━━━━━━━━━━━━━━━━━━\u001b[0m\u001b[37m\u001b[0m \u001b[1m695s\u001b[0m 774ms/step - accuracy: 0.9834 - loss: 0.0529 - val_accuracy: 0.6230 - val_loss: 1.8955 - learning_rate: 1.1367e-05\n",
      "Epoch 12/50\n",
      "\u001b[1m898/898\u001b[0m \u001b[32m━━━━━━━━━━━━━━━━━━━━\u001b[0m\u001b[37m\u001b[0m \u001b[1m729s\u001b[0m 811ms/step - accuracy: 0.9915 - loss: 0.0304 - val_accuracy: 0.6258 - val_loss: 2.0744 - learning_rate: 1.1367e-05\n",
      "Epoch 13/50\n",
      "\u001b[1m898/898\u001b[0m \u001b[32m━━━━━━━━━━━━━━━━━━━━\u001b[0m\u001b[37m\u001b[0m \u001b[1m754s\u001b[0m 839ms/step - accuracy: 0.9933 - loss: 0.0213 - val_accuracy: 0.6286 - val_loss: 2.2287 - learning_rate: 1.1367e-05\n",
      "Epoch 14/50\n",
      "\u001b[1m898/898\u001b[0m \u001b[32m━━━━━━━━━━━━━━━━━━━━\u001b[0m\u001b[37m\u001b[0m \u001b[1m750s\u001b[0m 835ms/step - accuracy: 0.9925 - loss: 0.0209 - val_accuracy: 0.6272 - val_loss: 2.3036 - learning_rate: 1.1367e-05\n"
     ]
    },
    {
     "data": {
      "text/plain": [
       "<keras.src.callbacks.history.History at 0x242d5874460>"
      ]
     },
     "execution_count": 9,
     "metadata": {},
     "output_type": "execute_result"
    }
   ],
   "source": [
    "# Retrieve the best parameters\n",
    "best_params = optimizer.max['params']\n",
    "best_learning_rate = 10 ** best_params['learning_rate']\n",
    "best_dropout = best_params['dropout_rate']\n",
    "\n",
    "# Build the final model\n",
    "model = build_model(learning_rate=best_learning_rate, dropout_rate=best_dropout)\n",
    "\n",
    "# Callbacks\n",
    "checkpoint = ModelCheckpoint('best_model.keras', save_best_only=True, monitor='val_accuracy')\n",
    "early_stopping = EarlyStopping(monitor='val_loss', patience=10, restore_best_weights=True)\n",
    "reduce_lr = ReduceLROnPlateau(monitor='val_loss', factor=0.1, patience=5, min_lr=0.00001)\n",
    "\n",
    "# Training the model\n",
    "model.fit(train_generator,\n",
    "          epochs=50,\n",
    "          validation_data=validation_generator,\n",
    "          class_weight=class_weights_dict,\n",
    "          callbacks=[checkpoint, early_stopping, reduce_lr],\n",
    "          verbose=1)\n"
   ]
  },
  {
   "cell_type": "code",
   "execution_count": 10,
   "id": "89c3cfa0",
   "metadata": {},
   "outputs": [
    {
     "name": "stdout",
     "output_type": "stream",
     "text": [
      "Model loaded successfully.\n"
     ]
    }
   ],
   "source": [
    "# Load the best model\n",
    "loaded_model = tf.keras.models.load_model('best_model.keras')\n",
    "print(\"Model loaded successfully.\")"
   ]
  },
  {
   "cell_type": "code",
   "execution_count": 11,
   "id": "f4788813",
   "metadata": {},
   "outputs": [
    {
     "name": "stdout",
     "output_type": "stream",
     "text": [
      "\r\n",
      "\u001b[1m  1/113\u001b[0m \u001b[37m━━━━━━━━━━━━━━━━━━━━\u001b[0m \u001b[1m5:59\u001b[0m 3s/step - accuracy: 0.4688 - loss: 4.0066"
     ]
    },
    {
     "name": "stderr",
     "output_type": "stream",
     "text": [
      "C:\\Users\\olale\\anaconda3\\lib\\site-packages\\keras\\src\\trainers\\data_adapters\\py_dataset_adapter.py:120: UserWarning: Your `PyDataset` class should call `super().__init__(**kwargs)` in its constructor. `**kwargs` can include `workers`, `use_multiprocessing`, `max_queue_size`. Do not pass these arguments to `fit()`, as they will be ignored.\n",
      "  self._warn_if_super_not_called()\n"
     ]
    },
    {
     "name": "stdout",
     "output_type": "stream",
     "text": [
      "\u001b[1m113/113\u001b[0m \u001b[32m━━━━━━━━━━━━━━━━━━━━\u001b[0m\u001b[37m\u001b[0m \u001b[1m31s\u001b[0m 248ms/step - accuracy: 0.5901 - loss: 2.5382\n",
      "Test Loss: 2.1825, Test Accuracy: 0.6291\n"
     ]
    }
   ],
   "source": [
    "# Model evaluation on the test data\n",
    "test_loss, test_accuracy = loaded_model.evaluate(test_generator)\n",
    "print(f\"Test Loss: {test_loss:.4f}, Test Accuracy: {test_accuracy:.4f}\")"
   ]
  },
  {
   "cell_type": "code",
   "execution_count": 12,
   "id": "26f67de2",
   "metadata": {},
   "outputs": [
    {
     "name": "stdout",
     "output_type": "stream",
     "text": [
      "\u001b[1m113/113\u001b[0m \u001b[32m━━━━━━━━━━━━━━━━━━━━\u001b[0m\u001b[37m\u001b[0m \u001b[1m29s\u001b[0m 243ms/step\n",
      "Classification Report:\n",
      "               precision    recall  f1-score   support\n",
      "\n",
      "       angry       0.55      0.52      0.54       491\n",
      "     disgust       0.75      0.71      0.73        55\n",
      "        fear       0.53      0.48      0.50       528\n",
      "       happy       0.79      0.82      0.80       879\n",
      "     neutral       0.56      0.58      0.57       626\n",
      "         sad       0.49      0.50      0.50       594\n",
      "    surprise       0.77      0.79      0.78       416\n",
      "\n",
      "    accuracy                           0.63      3589\n",
      "   macro avg       0.63      0.63      0.63      3589\n",
      "weighted avg       0.63      0.63      0.63      3589\n",
      "\n"
     ]
    }
   ],
   "source": [
    "# Prediction and classification report\n",
    "predictions = loaded_model.predict(test_generator)\n",
    "predicted_classes = np.argmax(predictions, axis=1)\n",
    "true_classes = test_generator.classes\n",
    "class_labels = list(test_generator.class_indices.keys())\n",
    "\n",
    "report = classification_report(true_classes, predicted_classes, target_names=class_labels)\n",
    "print(\"Classification Report:\\n\", report)"
   ]
  },
  {
   "cell_type": "code",
   "execution_count": 13,
   "id": "d0cd4262",
   "metadata": {},
   "outputs": [
    {
     "data": {
      "image/png": "[encoded data removed]",
      "text/plain": [
       "<Figure size 1000x700 with 1 Axes>"
      ]
     },
     "metadata": {},
     "output_type": "display_data"
    }
   ],
   "source": [
    "# Confusion Matrix\n",
    "cm = confusion_matrix(true_classes, predicted_classes)\n",
    "plt.figure(figsize=(10, 7))\n",
    "sns.heatmap(cm, annot=True, fmt='g', cmap='Blues', cbar=False, xticklabels=class_labels, yticklabels=class_labels)\n",
    "plt.xlabel('Predicted')\n",
    "plt.ylabel('True')\n",
    "plt.title('Confusion Matrix')\n",
    "plt.show()"
   ]
  },
  {
   "cell_type": "code",
   "execution_count": null,
   "id": "ef31269b",
   "metadata": {},
   "outputs": [],
   "source": []
  }
 ],
 "metadata": {
  "kernelspec": {
   "display_name": "Python 3 (ipykernel)",
   "language": "python",
   "name": "python3"
  },
  "language_info": {
   "codemirror_mode": {
    "name": "ipython",
    "version": 3
   },
   "file_extension": ".py",
   "mimetype": "text/x-python",
   "name": "python",
   "nbconvert_exporter": "python",
   "pygments_lexer": "ipython3",
   "version": "3.10.9"
  }
 },
 "nbformat": 4,
 "nbformat_minor": 5
}
